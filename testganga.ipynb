{
 "cells": [
  {
   "cell_type": "code",
   "execution_count": 10,
   "metadata": {
    "collapsed": false,
    "deletable": true,
    "editable": true,
    "scrolled": false
   },
   "outputs": [
    {
     "name": "stdout",
     "output_type": "stream",
     "text": [
      "\n",
      "This script evaluates the performance of the custom_score evaluation\n",
      "function against a baseline agent using alpha-beta search and iterative\n",
      "deepening (ID) called `AB_Improved`. The three `AB_Custom` agents use\n",
      "ID and alpha-beta search with the custom_score functions defined in\n",
      "game_agent.py.\n",
      "\n",
      "                        *************************                         \n",
      "                             Playing Matches                              \n",
      "                        *************************                         \n",
      "\n",
      " Match #   Opponent    AB_Improved   AB_Custom   AB_Custom_2  AB_Custom_3 \n",
      "                        Won | Lost   Won | Lost   Won | Lost   Won | Lost \n",
      "    1       Random    "
     ]
    },
    {
     "ename": "NotImplementedError",
     "evalue": "",
     "output_type": "error",
     "traceback": [
      "\u001b[1;31m---------------------------------------------------------------------------\u001b[0m",
      "\u001b[1;31mNotImplementedError\u001b[0m                       Traceback (most recent call last)",
      "\u001b[1;32mD:\\AIND\\AIND-Isolation\\tournament.py\u001b[0m in \u001b[0;36m<module>\u001b[1;34m()\u001b[0m\n\u001b[0;32m    155\u001b[0m \u001b[1;33m\u001b[0m\u001b[0m\n\u001b[0;32m    156\u001b[0m \u001b[1;32mif\u001b[0m \u001b[0m__name__\u001b[0m \u001b[1;33m==\u001b[0m \u001b[1;34m\"__main__\"\u001b[0m\u001b[1;33m:\u001b[0m\u001b[1;33m\u001b[0m\u001b[0m\n\u001b[1;32m--> 157\u001b[1;33m     \u001b[0mmain\u001b[0m\u001b[1;33m(\u001b[0m\u001b[1;33m)\u001b[0m\u001b[1;33m\u001b[0m\u001b[0m\n\u001b[0m",
      "\u001b[1;32mD:\\AIND\\AIND-Isolation\\tournament.py\u001b[0m in \u001b[0;36mmain\u001b[1;34m()\u001b[0m\n\u001b[0;32m    151\u001b[0m     \u001b[0mprint\u001b[0m\u001b[1;33m(\u001b[0m\u001b[1;34m\"{:^74}\"\u001b[0m\u001b[1;33m.\u001b[0m\u001b[0mformat\u001b[0m\u001b[1;33m(\u001b[0m\u001b[1;34m\"Playing Matches\"\u001b[0m\u001b[1;33m)\u001b[0m\u001b[1;33m)\u001b[0m\u001b[1;33m\u001b[0m\u001b[0m\n\u001b[0;32m    152\u001b[0m     \u001b[0mprint\u001b[0m\u001b[1;33m(\u001b[0m\u001b[1;34m\"{:^74}\"\u001b[0m\u001b[1;33m.\u001b[0m\u001b[0mformat\u001b[0m\u001b[1;33m(\u001b[0m\u001b[1;34m\"*************************\"\u001b[0m\u001b[1;33m)\u001b[0m\u001b[1;33m)\u001b[0m\u001b[1;33m\u001b[0m\u001b[0m\n\u001b[1;32m--> 153\u001b[1;33m     \u001b[0mplay_matches\u001b[0m\u001b[1;33m(\u001b[0m\u001b[0mcpu_agents\u001b[0m\u001b[1;33m,\u001b[0m \u001b[0mtest_agents\u001b[0m\u001b[1;33m,\u001b[0m \u001b[0mNUM_MATCHES\u001b[0m\u001b[1;33m)\u001b[0m\u001b[1;33m\u001b[0m\u001b[0m\n\u001b[0m\u001b[0;32m    154\u001b[0m \u001b[1;33m\u001b[0m\u001b[0m\n\u001b[0;32m    155\u001b[0m \u001b[1;33m\u001b[0m\u001b[0m\n",
      "\u001b[1;32mD:\\AIND\\AIND-Isolation\\tournament.py\u001b[0m in \u001b[0;36mplay_matches\u001b[1;34m(cpu_agents, test_agents, num_matches)\u001b[0m\n\u001b[0;32m     94\u001b[0m         \u001b[0mprint\u001b[0m\u001b[1;33m(\u001b[0m\u001b[1;34m\"{!s:^9}{:^13}\"\u001b[0m\u001b[1;33m.\u001b[0m\u001b[0mformat\u001b[0m\u001b[1;33m(\u001b[0m\u001b[0midx\u001b[0m \u001b[1;33m+\u001b[0m \u001b[1;36m1\u001b[0m\u001b[1;33m,\u001b[0m \u001b[0magent\u001b[0m\u001b[1;33m.\u001b[0m\u001b[0mname\u001b[0m\u001b[1;33m)\u001b[0m\u001b[1;33m,\u001b[0m \u001b[0mend\u001b[0m\u001b[1;33m=\u001b[0m\u001b[1;34m\"\"\u001b[0m\u001b[1;33m,\u001b[0m \u001b[0mflush\u001b[0m\u001b[1;33m=\u001b[0m\u001b[1;32mTrue\u001b[0m\u001b[1;33m)\u001b[0m\u001b[1;33m\u001b[0m\u001b[0m\n\u001b[0;32m     95\u001b[0m \u001b[1;33m\u001b[0m\u001b[0m\n\u001b[1;32m---> 96\u001b[1;33m         \u001b[0mcounts\u001b[0m \u001b[1;33m=\u001b[0m \u001b[0mplay_round\u001b[0m\u001b[1;33m(\u001b[0m\u001b[0magent\u001b[0m\u001b[1;33m,\u001b[0m \u001b[0mtest_agents\u001b[0m\u001b[1;33m,\u001b[0m \u001b[0mwins\u001b[0m\u001b[1;33m,\u001b[0m \u001b[0mnum_matches\u001b[0m\u001b[1;33m)\u001b[0m\u001b[1;33m\u001b[0m\u001b[0m\n\u001b[0m\u001b[0;32m     97\u001b[0m         \u001b[0mtotal_timeouts\u001b[0m \u001b[1;33m+=\u001b[0m \u001b[0mcounts\u001b[0m\u001b[1;33m[\u001b[0m\u001b[1;36m0\u001b[0m\u001b[1;33m]\u001b[0m\u001b[1;33m\u001b[0m\u001b[0m\n\u001b[0;32m     98\u001b[0m         \u001b[0mtotal_forfeits\u001b[0m \u001b[1;33m+=\u001b[0m \u001b[0mcounts\u001b[0m\u001b[1;33m[\u001b[0m\u001b[1;36m1\u001b[0m\u001b[1;33m]\u001b[0m\u001b[1;33m\u001b[0m\u001b[0m\n",
      "\u001b[1;32mD:\\AIND\\AIND-Isolation\\tournament.py\u001b[0m in \u001b[0;36mplay_round\u001b[1;34m(cpu_agent, test_agents, win_counts, num_matches)\u001b[0m\n\u001b[0;32m     61\u001b[0m         \u001b[1;31m# play all games and tally the results\u001b[0m\u001b[1;33m\u001b[0m\u001b[1;33m\u001b[0m\u001b[0m\n\u001b[0;32m     62\u001b[0m         \u001b[1;32mfor\u001b[0m \u001b[0mgame\u001b[0m \u001b[1;32min\u001b[0m \u001b[0mgames\u001b[0m\u001b[1;33m:\u001b[0m\u001b[1;33m\u001b[0m\u001b[0m\n\u001b[1;32m---> 63\u001b[1;33m             \u001b[0mwinner\u001b[0m\u001b[1;33m,\u001b[0m \u001b[0m_\u001b[0m\u001b[1;33m,\u001b[0m \u001b[0mtermination\u001b[0m \u001b[1;33m=\u001b[0m \u001b[0mgame\u001b[0m\u001b[1;33m.\u001b[0m\u001b[0mplay\u001b[0m\u001b[1;33m(\u001b[0m\u001b[0mtime_limit\u001b[0m\u001b[1;33m=\u001b[0m\u001b[0mTIME_LIMIT\u001b[0m\u001b[1;33m)\u001b[0m\u001b[1;33m\u001b[0m\u001b[0m\n\u001b[0m\u001b[0;32m     64\u001b[0m             \u001b[0mwin_counts\u001b[0m\u001b[1;33m[\u001b[0m\u001b[0mwinner\u001b[0m\u001b[1;33m]\u001b[0m \u001b[1;33m+=\u001b[0m \u001b[1;36m1\u001b[0m\u001b[1;33m\u001b[0m\u001b[0m\n\u001b[0;32m     65\u001b[0m \u001b[1;33m\u001b[0m\u001b[0m\n",
      "\u001b[1;32mD:\\AIND\\AIND-Isolation\\isolation\\isolation.py\u001b[0m in \u001b[0;36mplay\u001b[1;34m(self, time_limit)\u001b[0m\n\u001b[0;32m    324\u001b[0m             \u001b[0mmove_start\u001b[0m \u001b[1;33m=\u001b[0m \u001b[0mtime_millis\u001b[0m\u001b[1;33m(\u001b[0m\u001b[1;33m)\u001b[0m\u001b[1;33m\u001b[0m\u001b[0m\n\u001b[0;32m    325\u001b[0m             \u001b[0mtime_left\u001b[0m \u001b[1;33m=\u001b[0m \u001b[1;32mlambda\u001b[0m \u001b[1;33m:\u001b[0m \u001b[0mtime_limit\u001b[0m \u001b[1;33m-\u001b[0m \u001b[1;33m(\u001b[0m\u001b[0mtime_millis\u001b[0m\u001b[1;33m(\u001b[0m\u001b[1;33m)\u001b[0m \u001b[1;33m-\u001b[0m \u001b[0mmove_start\u001b[0m\u001b[1;33m)\u001b[0m\u001b[1;33m\u001b[0m\u001b[0m\n\u001b[1;32m--> 326\u001b[1;33m             \u001b[0mcurr_move\u001b[0m \u001b[1;33m=\u001b[0m \u001b[0mself\u001b[0m\u001b[1;33m.\u001b[0m\u001b[0m_active_player\u001b[0m\u001b[1;33m.\u001b[0m\u001b[0mget_move\u001b[0m\u001b[1;33m(\u001b[0m\u001b[0mgame_copy\u001b[0m\u001b[1;33m,\u001b[0m \u001b[0mtime_left\u001b[0m\u001b[1;33m)\u001b[0m\u001b[1;33m\u001b[0m\u001b[0m\n\u001b[0m\u001b[0;32m    327\u001b[0m             \u001b[0mmove_end\u001b[0m \u001b[1;33m=\u001b[0m \u001b[0mtime_left\u001b[0m\u001b[1;33m(\u001b[0m\u001b[1;33m)\u001b[0m\u001b[1;33m\u001b[0m\u001b[0m\n\u001b[0;32m    328\u001b[0m \u001b[1;33m\u001b[0m\u001b[0m\n",
      "\u001b[1;32mD:\\AIND\\AIND-Isolation\\game_agent.py\u001b[0m in \u001b[0;36mget_move\u001b[1;34m(self, game, time_left)\u001b[0m\n\u001b[0;32m    304\u001b[0m         \u001b[0mhttps\u001b[0m\u001b[1;33m:\u001b[0m\u001b[1;33m//\u001b[0m\u001b[0mgithub\u001b[0m\u001b[1;33m.\u001b[0m\u001b[0mcom\u001b[0m\u001b[1;33m/\u001b[0m\u001b[0maimacode\u001b[0m\u001b[1;33m/\u001b[0m\u001b[0maima\u001b[0m\u001b[1;33m-\u001b[0m\u001b[0mpseudocode\u001b[0m\u001b[1;33m/\u001b[0m\u001b[0mblob\u001b[0m\u001b[1;33m/\u001b[0m\u001b[0mmaster\u001b[0m\u001b[1;33m/\u001b[0m\u001b[0mmd\u001b[0m\u001b[1;33m/\u001b[0m\u001b[0mAlpha\u001b[0m\u001b[1;33m-\u001b[0m\u001b[0mBeta\u001b[0m\u001b[1;33m-\u001b[0m\u001b[0mSearch\u001b[0m\u001b[1;33m.\u001b[0m\u001b[0mmd\u001b[0m\u001b[1;33m\u001b[0m\u001b[0m\n\u001b[0;32m    305\u001b[0m         \u001b[1;33m**\u001b[0m\u001b[1;33m**\u001b[0m\u001b[1;33m**\u001b[0m\u001b[1;33m**\u001b[0m\u001b[1;33m**\u001b[0m\u001b[1;33m**\u001b[0m\u001b[1;33m**\u001b[0m\u001b[1;33m**\u001b[0m\u001b[1;33m**\u001b[0m\u001b[1;33m**\u001b[0m\u001b[1;33m**\u001b[0m\u001b[1;33m**\u001b[0m\u001b[1;33m**\u001b[0m\u001b[1;33m**\u001b[0m\u001b[1;33m**\u001b[0m\u001b[1;33m**\u001b[0m\u001b[1;33m**\u001b[0m\u001b[1;33m**\u001b[0m\u001b[1;33m**\u001b[0m\u001b[1;33m**\u001b[0m\u001b[1;33m**\u001b[0m\u001b[1;33m**\u001b[0m\u001b[1;33m**\u001b[0m\u001b[1;33m**\u001b[0m\u001b[1;33m**\u001b[0m\u001b[1;33m**\u001b[0m\u001b[1;33m**\u001b[0m\u001b[1;33m**\u001b[0m\u001b[1;33m**\u001b[0m\u001b[1;33m**\u001b[0m\u001b[1;33m**\u001b[0m\u001b[1;33m**\u001b[0m\u001b[1;33m**\u001b[0m\u001b[1;33m**\u001b[0m\u001b[1;33m**\u001b[0m\u001b[1;33m\u001b[0m\u001b[0m\n\u001b[1;32m--> 306\u001b[1;33m             \u001b[0mYou\u001b[0m \u001b[0mMAY\u001b[0m \u001b[0madd\u001b[0m \u001b[0madditional\u001b[0m \u001b[0mmethods\u001b[0m \u001b[0mto\u001b[0m \u001b[0mthis\u001b[0m \u001b[1;32mclass\u001b[0m\u001b[1;33m,\u001b[0m \u001b[1;32mor\u001b[0m \u001b[0mdefine\u001b[0m \u001b[0mhelper\u001b[0m\u001b[1;33m\u001b[0m\u001b[0m\n\u001b[0m\u001b[0;32m    307\u001b[0m                  \u001b[0mfunctions\u001b[0m \u001b[0mto\u001b[0m \u001b[0mimplement\u001b[0m \u001b[0mthe\u001b[0m \u001b[0mrequired\u001b[0m \u001b[0mfunctionality\u001b[0m\u001b[1;33m.\u001b[0m\u001b[1;33m\u001b[0m\u001b[0m\n\u001b[0;32m    308\u001b[0m         \u001b[1;33m**\u001b[0m\u001b[1;33m**\u001b[0m\u001b[1;33m**\u001b[0m\u001b[1;33m**\u001b[0m\u001b[1;33m**\u001b[0m\u001b[1;33m**\u001b[0m\u001b[1;33m**\u001b[0m\u001b[1;33m**\u001b[0m\u001b[1;33m**\u001b[0m\u001b[1;33m**\u001b[0m\u001b[1;33m**\u001b[0m\u001b[1;33m**\u001b[0m\u001b[1;33m**\u001b[0m\u001b[1;33m**\u001b[0m\u001b[1;33m**\u001b[0m\u001b[1;33m**\u001b[0m\u001b[1;33m**\u001b[0m\u001b[1;33m**\u001b[0m\u001b[1;33m**\u001b[0m\u001b[1;33m**\u001b[0m\u001b[1;33m**\u001b[0m\u001b[1;33m**\u001b[0m\u001b[1;33m**\u001b[0m\u001b[1;33m**\u001b[0m\u001b[1;33m**\u001b[0m\u001b[1;33m**\u001b[0m\u001b[1;33m**\u001b[0m\u001b[1;33m**\u001b[0m\u001b[1;33m**\u001b[0m\u001b[1;33m**\u001b[0m\u001b[1;33m**\u001b[0m\u001b[1;33m**\u001b[0m\u001b[1;33m**\u001b[0m\u001b[1;33m**\u001b[0m\u001b[1;33m**\u001b[0m\u001b[1;33m\u001b[0m\u001b[0m\n",
      "\u001b[1;31mNotImplementedError\u001b[0m: "
     ]
    }
   ],
   "source": [
    "%run tournament.py"
   ]
  },
  {
   "cell_type": "code",
   "execution_count": null,
   "metadata": {
    "collapsed": true,
    "deletable": true,
    "editable": true
   },
   "outputs": [],
   "source": []
  }
 ],
 "metadata": {
  "kernelspec": {
   "display_name": "Python 3",
   "language": "python",
   "name": "python3"
  },
  "language_info": {
   "codemirror_mode": {
    "name": "ipython",
    "version": 3
   },
   "file_extension": ".py",
   "mimetype": "text/x-python",
   "name": "python",
   "nbconvert_exporter": "python",
   "pygments_lexer": "ipython3",
   "version": "3.6.0"
  }
 },
 "nbformat": 4,
 "nbformat_minor": 2
}
